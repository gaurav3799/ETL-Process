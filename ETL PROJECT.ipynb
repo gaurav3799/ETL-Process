{
 "cells": [
  {
   "cell_type": "code",
   "execution_count": 1,
   "id": "e5c9f0a1",
   "metadata": {},
   "outputs": [],
   "source": [
    "import pandas as pd\n",
    "import requests\n",
    "import glob\n",
    "from datetime import datetime"
   ]
  },
  {
   "cell_type": "markdown",
   "id": "97664d6d",
   "metadata": {},
   "source": [
    "## Extracting Data using API"
   ]
  },
  {
   "cell_type": "code",
   "execution_count": 4,
   "id": "034b45c3",
   "metadata": {},
   "outputs": [],
   "source": [
    "url = \"https://api.apilayer.com/exchangerates_data/latest?base=EUR&apikey=qvY7W8m90WrZ7eTzioXmpQRxMBZgB4rA\" \n",
    "r=requests.get(url)\n",
    "df=pd.DataFrame(r.json())['rates']\n",
    "df.columns=[\"Currency\",\"Rate\"]\n",
    "df.to_csv('exchange_rate_api.csv')"
   ]
  },
  {
   "cell_type": "markdown",
   "id": "2aa0b738",
   "metadata": {},
   "source": [
    "### Download Data using wget function"
   ]
  },
  {
   "cell_type": "code",
   "execution_count": 5,
   "id": "a22c0a97",
   "metadata": {},
   "outputs": [
    {
     "name": "stderr",
     "output_type": "stream",
     "text": [
      "'wget' is not recognized as an internal or external command,\n",
      "operable program or batch file.\n",
      "'wget' is not recognized as an internal or external command,\n",
      "operable program or batch file.\n"
     ]
    }
   ],
   "source": [
    "!wget https://cf-courses-data.s3.us.cloud-object-storage.appdomain.cloud/IBMDeveloperSkillsNetwork-PY0221EN-SkillsNetwork/labs/module%206/Lab%20-%20Extract%20Transform%20Load/data/bank_market_cap_1.json\n",
    "!wget https://cf-courses-data.s3.us.cloud-object-storage.appdomain.cloud/IBMDeveloperSkillsNetwork-PY0221EN-SkillsNetwork/labs/module%206/Lab%20-%20Extract%20Transform%20Load/data/bank_market_cap_2.json"
   ]
  },
  {
   "cell_type": "code",
   "execution_count": 6,
   "id": "6533a6d1",
   "metadata": {},
   "outputs": [],
   "source": [
    "def extract_from_csv(file_to_process):\n",
    "    dataframe = pd.read_csv(file_to_process,index_col=0)\n",
    "    return dataframe\n"
   ]
  },
  {
   "cell_type": "markdown",
   "id": "0da9b064",
   "metadata": {},
   "source": [
    "### Extract function\n"
   ]
  },
  {
   "cell_type": "code",
   "execution_count": 7,
   "id": "8b850f83",
   "metadata": {},
   "outputs": [],
   "source": [
    "def extract():\n",
    "    extracted_data=pd.DataFrame(columns=['Name','cap_USD'])\n",
    "    \n",
    "    for csvfile in glob.glob(\"bank1.csv\"):\n",
    "        extracted_data = extracted_data.append(extract_from_csv(csvfile),ignore_index=True)\n",
    "    \n",
    "    return extracted_data"
   ]
  },
  {
   "cell_type": "code",
   "execution_count": 8,
   "id": "5b2cd2dd",
   "metadata": {},
   "outputs": [],
   "source": [
    "ex_rate=pd.read_csv('exchange_rate_api.csv',index_col=0)    #download csv file in same directory\n",
    "ex_rate_to_gbp=ex_rate['rates']['GBP']"
   ]
  },
  {
   "cell_type": "markdown",
   "id": "beb95520",
   "metadata": {},
   "source": [
    "### Transform function\n"
   ]
  },
  {
   "cell_type": "code",
   "execution_count": 9,
   "id": "9142870d",
   "metadata": {},
   "outputs": [],
   "source": [
    "def transform(data):\n",
    "    data.cap_USD=data.cap_USD.astype(float)\n",
    "    data['cap_USD']=round(data.cap_USD*ex_rate_to_gbp,2)\n",
    "    data.rename(columns={'cap_USD':'cap_GBP'},inplace=True)\n",
    "    return data \n",
    "    \n",
    "    "
   ]
  },
  {
   "cell_type": "markdown",
   "id": "855ca668",
   "metadata": {},
   "source": [
    "### load function"
   ]
  },
  {
   "cell_type": "code",
   "execution_count": 10,
   "id": "7af34175",
   "metadata": {},
   "outputs": [],
   "source": [
    "def load(targetfile,data_to_load):\n",
    "    data_to_load.to_csv(targetfile)  "
   ]
  },
  {
   "cell_type": "markdown",
   "id": "7d7c7f3d",
   "metadata": {},
   "source": [
    "### log function"
   ]
  },
  {
   "cell_type": "code",
   "execution_count": 11,
   "id": "754f9e84",
   "metadata": {},
   "outputs": [],
   "source": [
    "def log(message):\n",
    "    timestamp_format = '%Y-%h-%d-%H:%M:%S' # Year-Monthname-Day-Hour-Minute-Second\n",
    "    now = datetime.now() # get current timestamp\n",
    "    timestamp = now.strftime(timestamp_format)\n",
    "    with open(\"logfile.txt\",\"a\") as f:\n",
    "        f.write(timestamp + ',' + message + '\\n')"
   ]
  },
  {
   "cell_type": "markdown",
   "id": "b3802441",
   "metadata": {},
   "source": [
    "## Running ETL Process"
   ]
  },
  {
   "cell_type": "code",
   "execution_count": 12,
   "id": "b5cc2de8",
   "metadata": {},
   "outputs": [],
   "source": [
    "log(\"ETL Job Started\")"
   ]
  },
  {
   "cell_type": "code",
   "execution_count": 13,
   "id": "a0e5881b",
   "metadata": {},
   "outputs": [
    {
     "name": "stderr",
     "output_type": "stream",
     "text": [
      "C:\\Users\\Gaurav Verma\\AppData\\Local\\Temp\\ipykernel_11700\\3882947496.py:5: FutureWarning: The frame.append method is deprecated and will be removed from pandas in a future version. Use pandas.concat instead.\n",
      "  extracted_data = extracted_data.append(extract_from_csv(csvfile),ignore_index=True)\n"
     ]
    },
    {
     "data": {
      "text/html": [
       "<div>\n",
       "<style scoped>\n",
       "    .dataframe tbody tr th:only-of-type {\n",
       "        vertical-align: middle;\n",
       "    }\n",
       "\n",
       "    .dataframe tbody tr th {\n",
       "        vertical-align: top;\n",
       "    }\n",
       "\n",
       "    .dataframe thead th {\n",
       "        text-align: right;\n",
       "    }\n",
       "</style>\n",
       "<table border=\"1\" class=\"dataframe\">\n",
       "  <thead>\n",
       "    <tr style=\"text-align: right;\">\n",
       "      <th></th>\n",
       "      <th>Name</th>\n",
       "      <th>cap_USD</th>\n",
       "    </tr>\n",
       "  </thead>\n",
       "  <tbody>\n",
       "    <tr>\n",
       "      <th>0</th>\n",
       "      <td>JPMorgan Chase</td>\n",
       "      <td>390.934</td>\n",
       "    </tr>\n",
       "    <tr>\n",
       "      <th>1</th>\n",
       "      <td>Industrial and Commercial Bank of China</td>\n",
       "      <td>345.214</td>\n",
       "    </tr>\n",
       "    <tr>\n",
       "      <th>2</th>\n",
       "      <td>Bank of America</td>\n",
       "      <td>325.331</td>\n",
       "    </tr>\n",
       "    <tr>\n",
       "      <th>3</th>\n",
       "      <td>Wells Fargo</td>\n",
       "      <td>308.013</td>\n",
       "    </tr>\n",
       "    <tr>\n",
       "      <th>4</th>\n",
       "      <td>China Construction Bank</td>\n",
       "      <td>257.399</td>\n",
       "    </tr>\n",
       "    <tr>\n",
       "      <th>...</th>\n",
       "      <td>...</td>\n",
       "      <td>...</td>\n",
       "    </tr>\n",
       "    <tr>\n",
       "      <th>100</th>\n",
       "      <td>Ping An Bank</td>\n",
       "      <td>37.993</td>\n",
       "    </tr>\n",
       "    <tr>\n",
       "      <th>101</th>\n",
       "      <td>Standard Chartered</td>\n",
       "      <td>37.319</td>\n",
       "    </tr>\n",
       "    <tr>\n",
       "      <th>102</th>\n",
       "      <td>United Overseas Bank</td>\n",
       "      <td>35.128</td>\n",
       "    </tr>\n",
       "    <tr>\n",
       "      <th>103</th>\n",
       "      <td>QNB Group</td>\n",
       "      <td>33.56</td>\n",
       "    </tr>\n",
       "    <tr>\n",
       "      <th>104</th>\n",
       "      <td>Bank Rakyat</td>\n",
       "      <td>33.081</td>\n",
       "    </tr>\n",
       "  </tbody>\n",
       "</table>\n",
       "<p>105 rows × 2 columns</p>\n",
       "</div>"
      ],
      "text/plain": [
       "                                        Name  cap_USD\n",
       "0                             JPMorgan Chase  390.934\n",
       "1    Industrial and Commercial Bank of China  345.214\n",
       "2                            Bank of America  325.331\n",
       "3                                Wells Fargo  308.013\n",
       "4                    China Construction Bank  257.399\n",
       "..                                       ...      ...\n",
       "100                             Ping An Bank   37.993\n",
       "101                       Standard Chartered   37.319\n",
       "102                     United Overseas Bank   35.128\n",
       "103                                QNB Group    33.56\n",
       "104                              Bank Rakyat   33.081\n",
       "\n",
       "[105 rows x 2 columns]"
      ]
     },
     "execution_count": 13,
     "metadata": {},
     "output_type": "execute_result"
    }
   ],
   "source": [
    "log(\"Extract phase Started\")\n",
    "extracted_data = extract()\n",
    "log(\"Extract phase Ended\")\n",
    "extracted_data"
   ]
  },
  {
   "cell_type": "code",
   "execution_count": 14,
   "id": "eda72bd0",
   "metadata": {},
   "outputs": [
    {
     "data": {
      "text/html": [
       "<div>\n",
       "<style scoped>\n",
       "    .dataframe tbody tr th:only-of-type {\n",
       "        vertical-align: middle;\n",
       "    }\n",
       "\n",
       "    .dataframe tbody tr th {\n",
       "        vertical-align: top;\n",
       "    }\n",
       "\n",
       "    .dataframe thead th {\n",
       "        text-align: right;\n",
       "    }\n",
       "</style>\n",
       "<table border=\"1\" class=\"dataframe\">\n",
       "  <thead>\n",
       "    <tr style=\"text-align: right;\">\n",
       "      <th></th>\n",
       "      <th>Name</th>\n",
       "      <th>cap_GBP</th>\n",
       "    </tr>\n",
       "  </thead>\n",
       "  <tbody>\n",
       "    <tr>\n",
       "      <th>0</th>\n",
       "      <td>JPMorgan Chase</td>\n",
       "      <td>333.68</td>\n",
       "    </tr>\n",
       "    <tr>\n",
       "      <th>1</th>\n",
       "      <td>Industrial and Commercial Bank of China</td>\n",
       "      <td>294.65</td>\n",
       "    </tr>\n",
       "    <tr>\n",
       "      <th>2</th>\n",
       "      <td>Bank of America</td>\n",
       "      <td>277.68</td>\n",
       "    </tr>\n",
       "    <tr>\n",
       "      <th>3</th>\n",
       "      <td>Wells Fargo</td>\n",
       "      <td>262.90</td>\n",
       "    </tr>\n",
       "    <tr>\n",
       "      <th>4</th>\n",
       "      <td>China Construction Bank</td>\n",
       "      <td>219.70</td>\n",
       "    </tr>\n",
       "    <tr>\n",
       "      <th>...</th>\n",
       "      <td>...</td>\n",
       "      <td>...</td>\n",
       "    </tr>\n",
       "    <tr>\n",
       "      <th>100</th>\n",
       "      <td>Ping An Bank</td>\n",
       "      <td>32.43</td>\n",
       "    </tr>\n",
       "    <tr>\n",
       "      <th>101</th>\n",
       "      <td>Standard Chartered</td>\n",
       "      <td>31.85</td>\n",
       "    </tr>\n",
       "    <tr>\n",
       "      <th>102</th>\n",
       "      <td>United Overseas Bank</td>\n",
       "      <td>29.98</td>\n",
       "    </tr>\n",
       "    <tr>\n",
       "      <th>103</th>\n",
       "      <td>QNB Group</td>\n",
       "      <td>28.64</td>\n",
       "    </tr>\n",
       "    <tr>\n",
       "      <th>104</th>\n",
       "      <td>Bank Rakyat</td>\n",
       "      <td>28.24</td>\n",
       "    </tr>\n",
       "  </tbody>\n",
       "</table>\n",
       "<p>105 rows × 2 columns</p>\n",
       "</div>"
      ],
      "text/plain": [
       "                                        Name  cap_GBP\n",
       "0                             JPMorgan Chase   333.68\n",
       "1    Industrial and Commercial Bank of China   294.65\n",
       "2                            Bank of America   277.68\n",
       "3                                Wells Fargo   262.90\n",
       "4                    China Construction Bank   219.70\n",
       "..                                       ...      ...\n",
       "100                             Ping An Bank    32.43\n",
       "101                       Standard Chartered    31.85\n",
       "102                     United Overseas Bank    29.98\n",
       "103                                QNB Group    28.64\n",
       "104                              Bank Rakyat    28.24\n",
       "\n",
       "[105 rows x 2 columns]"
      ]
     },
     "execution_count": 14,
     "metadata": {},
     "output_type": "execute_result"
    }
   ],
   "source": [
    "log(\"Transform phase Started\")\n",
    "transformed_data = transform(extracted_data)\n",
    "log(\"Transform phase Ended\")\n",
    "transformed_data"
   ]
  },
  {
   "cell_type": "code",
   "execution_count": 15,
   "id": "27bb6a16",
   "metadata": {},
   "outputs": [],
   "source": [
    "log(\"Load phase Started\")\n",
    "load('Exchange_rate_GBP',transformed_data)\n",
    "log(\"Load phase Ended\")"
   ]
  },
  {
   "cell_type": "code",
   "execution_count": 16,
   "id": "7651efb0",
   "metadata": {},
   "outputs": [],
   "source": [
    "log(\"ETL Job Ended\")"
   ]
  }
 ],
 "metadata": {
  "kernelspec": {
   "display_name": "Python 3 (ipykernel)",
   "language": "python",
   "name": "python3"
  },
  "language_info": {
   "codemirror_mode": {
    "name": "ipython",
    "version": 3
   },
   "file_extension": ".py",
   "mimetype": "text/x-python",
   "name": "python",
   "nbconvert_exporter": "python",
   "pygments_lexer": "ipython3",
   "version": "3.9.12"
  }
 },
 "nbformat": 4,
 "nbformat_minor": 5
}
